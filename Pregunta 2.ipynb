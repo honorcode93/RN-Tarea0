{
 "cells": [
  {
   "cell_type": "markdown",
   "metadata": {},
   "source": [
    "# Pregunta 2"
   ]
  },
  {
   "cell_type": "markdown",
   "metadata": {},
   "source": [
    "##### Generación del dataset"
   ]
  },
  {
   "cell_type": "code",
   "execution_count": 6,
   "metadata": {},
   "outputs": [],
   "source": [
    "from sklearn.preprocessing import StandardScaler\n",
    "from sklearn.datasets import load_iris\n",
    "X_train,y_train = load_iris(return_X_y=True)\n",
    "scaler = StandardScaler().fit(X_train)\n",
    "X_train = scaler.transform(X_train)\n",
    "\n",
    "# Convert the targets to one hot vectors\n",
    "import keras\n",
    "y_onehot = keras.utils.to_categorical(y_train)"
   ]
  },
  {
   "cell_type": "markdown",
   "metadata": {},
   "source": [
    "##### Definición de la interfaz"
   ]
  },
  {
   "cell_type": "code",
   "execution_count": 17,
   "metadata": {},
   "outputs": [],
   "source": [
    "from keras.models import Sequential\n",
    "from keras.layers.core import Dense\n",
    "from keras.optimizers import SGD\n",
    "\n",
    "\n",
    "def evaluate_network_with_parameters(X, y, layers, epochs, lr, loss=\"mse\"):\n",
    "    model = Sequential()\n",
    "    model.add(Dense(32, input_dim=X_train.shape[1], activation=layers[0]))\n",
    "    model.add(Dense(16, activation=layers[1]))\n",
    "    model.add(Dense(3, activation=layers[2]))\n",
    "    model.compile(optimizer=SGD(lr=lr),loss=loss, metrics=[\"accuracy\"])\n",
    "    hist = model.fit(X_train, y, epochs=epochs, batch_size=1, verbose=0)\n",
    "    return hist.history['acc'][-1]\n",
    "\n"
   ]
  },
  {
   "cell_type": "markdown",
   "metadata": {},
   "source": [
    "##### Experimentos"
   ]
  },
  {
   "cell_type": "code",
   "execution_count": null,
   "metadata": {},
   "outputs": [
    {
     "name": "stdout",
     "output_type": "stream",
     "text": [
      "Evaluating mse sigmoid sigmoid\n",
      "Evaluating mse relu relu\n",
      "Evaluating mse sigmoid relu\n",
      "Evaluating mse relu sigmoid\n",
      "Evaluating crossentropy sigmoid sigmoid\n",
      "Evaluating crossentropy relu relu\n",
      "Evaluating crossentropy sigmoid relu\n"
     ]
    }
   ],
   "source": [
    "import numpy as np\n",
    "from timeit import default_timer as timer\n",
    "# Definición del número de epochs a probar\n",
    "epochs = np.arange(10, 1000, 50)\n",
    "\n",
    "X = X_train\n",
    "y = y_onehot\n",
    "\n",
    "results = {\n",
    "    \"mse\": {\n",
    "        \"sigmoid_sigmoid\": {},\n",
    "        \"relu_relu\": {},\n",
    "        \"sigmoid_relu\": {},\n",
    "        \"relu_sigmoid\": {},\n",
    "    },\n",
    "    \"crossentropy\" : {\n",
    "        \"sigmoid_sigmoid\": {},\n",
    "        \"relu_relu\": {},\n",
    "        \"sigmoid_relu\": {},\n",
    "        \"relu_sigmoid\": {},\n",
    "    }\n",
    "}\n",
    "\n",
    "for loss in results:\n",
    "    for activation_string in results[loss]:\n",
    "        layers = activation_string.split(\"_\")\n",
    "        layers.append(\"softmax\")\n",
    "        \n",
    "        results[loss][activation_string][\"results\"] = []\n",
    "        results[loss][activation_string][\"exec_time\"] = []\n",
    "        \n",
    "        print(\"Evaluating\", loss, layers[0], layers[1])\n",
    "        for n in epochs:\n",
    "            start = timer()\n",
    "            accuracy = evaluate_network_with_parameters(X, y, layers, n, 0.1, loss=\"mse\")\n",
    "            end = timer()\n",
    "            results[loss][activation_string][\"results\"].append(accuracy)\n",
    "            results[loss][activation_string][\"exec_time\"].append(end - start)"
   ]
  },
  {
   "cell_type": "markdown",
   "metadata": {},
   "source": [
    "##### Resultados"
   ]
  },
  {
   "cell_type": "code",
   "execution_count": null,
   "metadata": {},
   "outputs": [],
   "source": []
  }
 ],
 "metadata": {
  "kernelspec": {
   "display_name": "Python 3",
   "language": "python",
   "name": "python3"
  },
  "language_info": {
   "codemirror_mode": {
    "name": "ipython",
    "version": 3
   },
   "file_extension": ".py",
   "mimetype": "text/x-python",
   "name": "python",
   "nbconvert_exporter": "python",
   "pygments_lexer": "ipython3",
   "version": "3.6.2"
  }
 },
 "nbformat": 4,
 "nbformat_minor": 2
}
